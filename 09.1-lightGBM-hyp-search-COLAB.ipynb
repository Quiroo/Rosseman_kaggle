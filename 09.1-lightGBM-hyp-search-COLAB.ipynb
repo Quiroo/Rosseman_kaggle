{
  "nbformat": 4,
  "nbformat_minor": 0,
  "metadata": {
    "kernelspec": {
      "display_name": "Python 3",
      "language": "python",
      "name": "python3"
    },
    "language_info": {
      "codemirror_mode": {
        "name": "ipython",
        "version": 3
      },
      "file_extension": ".py",
      "mimetype": "text/x-python",
      "name": "python",
      "nbconvert_exporter": "python",
      "pygments_lexer": "ipython3",
      "version": "3.7.7"
    },
    "colab": {
      "name": "09.1-lightGBM-hyp-search.ipynb",
      "provenance": []
    }
  },
  "cells": [
    {
      "cell_type": "markdown",
      "metadata": {
        "id": "s4ajW8bT3dBD"
      },
      "source": [
        "# Main Notebook Modelo LIGHTGBM Rossman Kaggle\n",
        "Disclaimer: los resultados que arroja la siguiente notebook corrida en anaconda son inferiores y distintos a los mostrados en kaggle porque esas corridas se realizaron en collab. "
      ]
    },
    {
      "cell_type": "markdown",
      "metadata": {
        "id": "bgcBURK33dBF"
      },
      "source": [
        "## Import de los modulos necesarios"
      ]
    },
    {
      "cell_type": "code",
      "metadata": {
        "colab": {
          "base_uri": "https://localhost:8080/"
        },
        "id": "k0VEvSBF3dBG",
        "outputId": "aab02cc2-6a55-48ce-b0a4-0491eb979d7e"
      },
      "source": [
        "from tensorflow.compat.v1 import ConfigProto\n",
        "from tensorflow.compat.v1 import InteractiveSession\n",
        "config = ConfigProto()\n",
        "config.gpu_options.allow_growth = True\n",
        "session = InteractiveSession(config=config)\n",
        "\n",
        "import pandas as pd\n",
        "import numpy as np\n",
        "import datetime\n",
        "from pandas_summary import DataFrameSummary"
      ],
      "execution_count": 4,
      "outputs": [
        {
          "output_type": "stream",
          "name": "stderr",
          "text": [
            "/usr/local/lib/python3.7/dist-packages/tensorflow/python/client/session.py:1766: UserWarning: An interactive session is already active. This can cause out-of-memory errors in some cases. You must explicitly call `InteractiveSession.close()` to release resources held by the other session(s).\n",
            "  warnings.warn('An interactive session is already active. This can '\n"
          ]
        }
      ]
    },
    {
      "cell_type": "markdown",
      "metadata": {
        "id": "ZvtpsJQH3dBI"
      },
      "source": [
        "## Load data procesada utilizando las notebooks entregadas"
      ]
    },
    {
      "cell_type": "code",
      "metadata": {
        "id": "C4fgwjxW3dBJ"
      },
      "source": [
        "df = pd.read_feather('train_normalized_data.fth')\n",
        "df_test = pd.read_feather('test_normalized_data.fth')"
      ],
      "execution_count": 9,
      "outputs": []
    },
    {
      "cell_type": "code",
      "metadata": {
        "id": "-l1Ur6FU3dBJ"
      },
      "source": [
        "cat_vars = ['Store', 'DayOfWeek', 'Year', 'Month', 'Day', 'StateHoliday', 'CompetitionMonthsOpen', 'Promo2Weeks', \n",
        "            'StoreType', 'Assortment', 'PromoInterval', 'CompetitionOpenSinceYear', 'Promo2SinceYear', 'State', \n",
        "            'Week', 'Events', 'Promo_fw', 'Promo_bw', 'StateHoliday_bool_fw', 'StateHoliday_bool_bw', 'SchoolHoliday_fw', 'SchoolHoliday_bw']\n",
        "contin_vars = ['CompetitionDistance', \n",
        "               'Max_TemperatureC', 'Mean_TemperatureC', 'Min_TemperatureC', 'Precipitationmm',\n",
        "               'Max_Humidity', 'Mean_Humidity', 'Min_Humidity', 'Max_Wind_SpeedKm_h', \n",
        "               'Mean_Wind_SpeedKm_h', 'CloudCover', 'trend', 'trend_DE',\n",
        "               'AfterStateHoliday_bool', 'BeforeStateHoliday_bool', 'Promo', 'SchoolHoliday', 'StateHoliday_bool']"
      ],
      "execution_count": 10,
      "outputs": []
    },
    {
      "cell_type": "code",
      "metadata": {
        "colab": {
          "base_uri": "https://localhost:8080/"
        },
        "id": "C_zaSjlo3dBJ",
        "outputId": "200b9e99-9f74-452b-eb15-2def70120f8b"
      },
      "source": [
        "# Split data into train/val and define X and y variables\n",
        "df_train = df[df.Date < datetime.datetime(2015, 7, 1)]  \n",
        "df_val = df[df.Date >= datetime.datetime(2015, 7, 1)]\n",
        "print(f'Cantidad en val: {len(df_val)}, porcentaje: {len(df_train)/(len(df_train) + len(df_val))}')\n",
        "\n",
        "y_out_columns = ['Sales']\n",
        "X_train = df_train[cat_vars + contin_vars]\n",
        "X_val = df_val[cat_vars + contin_vars]\n",
        "X_test = df_test[cat_vars + contin_vars]"
      ],
      "execution_count": 11,
      "outputs": [
        {
          "output_type": "stream",
          "name": "stdout",
          "text": [
            "Cantidad en val: 30188, porcentaje: 0.9642465458145908\n"
          ]
        }
      ]
    },
    {
      "cell_type": "code",
      "metadata": {
        "colab": {
          "base_uri": "https://localhost:8080/"
        },
        "id": "uMY15Aq73dBK",
        "outputId": "51b80647-05d8-46e3-bdd9-3cdd44239ad3"
      },
      "source": [
        "X_train.shape, X_val.shape"
      ],
      "execution_count": 12,
      "outputs": [
        {
          "output_type": "execute_result",
          "data": {
            "text/plain": [
              "((814150, 40), (30188, 40))"
            ]
          },
          "metadata": {},
          "execution_count": 12
        }
      ]
    },
    {
      "cell_type": "code",
      "metadata": {
        "id": "Jql7dNbT3dBK"
      },
      "source": [
        "# Normalize output and determine wether to use log_output \n",
        "log_output = True\n",
        "    \n",
        "if log_output:\n",
        "    # Escala logaritmica\n",
        "    max_log_y = np.max(np.log(df[y_out_columns])).values\n",
        "    y_train = np.log(df_train[y_out_columns].values)/max_log_y\n",
        "    y_val = np.log(df_val[y_out_columns].values)/max_log_y\n",
        "else:\n",
        "    # Normalización\n",
        "    y_mean = df_train[y_out_columns].mean().values\n",
        "    y_std = df_train[y_out_columns].std().values\n",
        "    y_train = (df_train[y_out_columns].values - y_mean)/y_std\n",
        "    y_val = (df_val[y_out_columns].values - y_mean)/y_std"
      ],
      "execution_count": 13,
      "outputs": []
    },
    {
      "cell_type": "markdown",
      "metadata": {
        "id": "ukwdmNXk3dBL"
      },
      "source": [
        "## Data from hyper opt - Iterations"
      ]
    },
    {
      "cell_type": "code",
      "metadata": {
        "colab": {
          "base_uri": "https://localhost:8080/",
          "height": 414
        },
        "id": "8L-CUmdA3dBN",
        "outputId": "21ccd48c-8ed9-4fcf-9c50-3dd4f971b85c"
      },
      "source": [
        "iterations_from_hyperopt = pd.read_csv('09-lightGBM-hyp-search_iterations.csv')\n",
        "iterations_from_hyperopt.sort_values('loss')"
      ],
      "execution_count": 15,
      "outputs": [
        {
          "output_type": "execute_result",
          "data": {
            "text/html": [
              "<div>\n",
              "<style scoped>\n",
              "    .dataframe tbody tr th:only-of-type {\n",
              "        vertical-align: middle;\n",
              "    }\n",
              "\n",
              "    .dataframe tbody tr th {\n",
              "        vertical-align: top;\n",
              "    }\n",
              "\n",
              "    .dataframe thead th {\n",
              "        text-align: right;\n",
              "    }\n",
              "</style>\n",
              "<table border=\"1\" class=\"dataframe\">\n",
              "  <thead>\n",
              "    <tr style=\"text-align: right;\">\n",
              "      <th></th>\n",
              "      <th>Unnamed: 0</th>\n",
              "      <th>loss</th>\n",
              "      <th>iteration</th>\n",
              "      <th>max_depth</th>\n",
              "      <th>learning_rate</th>\n",
              "      <th>reg_lambda</th>\n",
              "      <th>num_leaves</th>\n",
              "      <th>n_estimators</th>\n",
              "    </tr>\n",
              "  </thead>\n",
              "  <tbody>\n",
              "    <tr>\n",
              "      <th>34</th>\n",
              "      <td>34</td>\n",
              "      <td>0.112966</td>\n",
              "      <td>34</td>\n",
              "      <td>460.0</td>\n",
              "      <td>0.050612</td>\n",
              "      <td>17.0</td>\n",
              "      <td>55.0</td>\n",
              "      <td>1150.0</td>\n",
              "    </tr>\n",
              "    <tr>\n",
              "      <th>78</th>\n",
              "      <td>78</td>\n",
              "      <td>0.113528</td>\n",
              "      <td>78</td>\n",
              "      <td>580.0</td>\n",
              "      <td>0.102991</td>\n",
              "      <td>21.0</td>\n",
              "      <td>75.0</td>\n",
              "      <td>1150.0</td>\n",
              "    </tr>\n",
              "    <tr>\n",
              "      <th>60</th>\n",
              "      <td>60</td>\n",
              "      <td>0.113648</td>\n",
              "      <td>60</td>\n",
              "      <td>560.0</td>\n",
              "      <td>0.055221</td>\n",
              "      <td>19.0</td>\n",
              "      <td>65.0</td>\n",
              "      <td>1200.0</td>\n",
              "    </tr>\n",
              "    <tr>\n",
              "      <th>39</th>\n",
              "      <td>39</td>\n",
              "      <td>0.113735</td>\n",
              "      <td>39</td>\n",
              "      <td>440.0</td>\n",
              "      <td>0.050151</td>\n",
              "      <td>14.0</td>\n",
              "      <td>50.0</td>\n",
              "      <td>1150.0</td>\n",
              "    </tr>\n",
              "    <tr>\n",
              "      <th>44</th>\n",
              "      <td>44</td>\n",
              "      <td>0.113890</td>\n",
              "      <td>44</td>\n",
              "      <td>500.0</td>\n",
              "      <td>0.050844</td>\n",
              "      <td>20.0</td>\n",
              "      <td>55.0</td>\n",
              "      <td>1150.0</td>\n",
              "    </tr>\n",
              "    <tr>\n",
              "      <th>...</th>\n",
              "      <td>...</td>\n",
              "      <td>...</td>\n",
              "      <td>...</td>\n",
              "      <td>...</td>\n",
              "      <td>...</td>\n",
              "      <td>...</td>\n",
              "      <td>...</td>\n",
              "      <td>...</td>\n",
              "    </tr>\n",
              "    <tr>\n",
              "      <th>84</th>\n",
              "      <td>84</td>\n",
              "      <td>0.123025</td>\n",
              "      <td>84</td>\n",
              "      <td>540.0</td>\n",
              "      <td>0.023014</td>\n",
              "      <td>25.0</td>\n",
              "      <td>80.0</td>\n",
              "      <td>1050.0</td>\n",
              "    </tr>\n",
              "    <tr>\n",
              "      <th>0</th>\n",
              "      <td>0</td>\n",
              "      <td>0.124011</td>\n",
              "      <td>0</td>\n",
              "      <td>460.0</td>\n",
              "      <td>0.021323</td>\n",
              "      <td>35.0</td>\n",
              "      <td>55.0</td>\n",
              "      <td>1100.0</td>\n",
              "    </tr>\n",
              "    <tr>\n",
              "      <th>94</th>\n",
              "      <td>94</td>\n",
              "      <td>0.124650</td>\n",
              "      <td>94</td>\n",
              "      <td>580.0</td>\n",
              "      <td>0.020936</td>\n",
              "      <td>8.0</td>\n",
              "      <td>70.0</td>\n",
              "      <td>1100.0</td>\n",
              "    </tr>\n",
              "    <tr>\n",
              "      <th>33</th>\n",
              "      <td>33</td>\n",
              "      <td>0.124939</td>\n",
              "      <td>33</td>\n",
              "      <td>420.0</td>\n",
              "      <td>0.018817</td>\n",
              "      <td>9.0</td>\n",
              "      <td>50.0</td>\n",
              "      <td>1100.0</td>\n",
              "    </tr>\n",
              "    <tr>\n",
              "      <th>53</th>\n",
              "      <td>53</td>\n",
              "      <td>0.125101</td>\n",
              "      <td>53</td>\n",
              "      <td>520.0</td>\n",
              "      <td>0.019614</td>\n",
              "      <td>28.0</td>\n",
              "      <td>60.0</td>\n",
              "      <td>1050.0</td>\n",
              "    </tr>\n",
              "  </tbody>\n",
              "</table>\n",
              "<p>100 rows × 8 columns</p>\n",
              "</div>"
            ],
            "text/plain": [
              "    Unnamed: 0      loss  iteration  ...  reg_lambda  num_leaves  n_estimators\n",
              "34          34  0.112966         34  ...        17.0        55.0        1150.0\n",
              "78          78  0.113528         78  ...        21.0        75.0        1150.0\n",
              "60          60  0.113648         60  ...        19.0        65.0        1200.0\n",
              "39          39  0.113735         39  ...        14.0        50.0        1150.0\n",
              "44          44  0.113890         44  ...        20.0        55.0        1150.0\n",
              "..         ...       ...        ...  ...         ...         ...           ...\n",
              "84          84  0.123025         84  ...        25.0        80.0        1050.0\n",
              "0            0  0.124011          0  ...        35.0        55.0        1100.0\n",
              "94          94  0.124650         94  ...         8.0        70.0        1100.0\n",
              "33          33  0.124939         33  ...         9.0        50.0        1100.0\n",
              "53          53  0.125101         53  ...        28.0        60.0        1050.0\n",
              "\n",
              "[100 rows x 8 columns]"
            ]
          },
          "metadata": {},
          "execution_count": 15
        }
      ]
    },
    {
      "cell_type": "code",
      "metadata": {
        "colab": {
          "base_uri": "https://localhost:8080/"
        },
        "id": "qgcG7p603dBO",
        "outputId": "ed2bc1d9-6a4f-4bf7-95db-fd81c98e2eb2"
      },
      "source": [
        "# We print the best parameters found\n",
        "iterations_from_hyperopt.loc[34,:]"
      ],
      "execution_count": 16,
      "outputs": [
        {
          "output_type": "execute_result",
          "data": {
            "text/plain": [
              "Unnamed: 0         34.000000\n",
              "loss                0.112966\n",
              "iteration          34.000000\n",
              "max_depth         460.000000\n",
              "learning_rate       0.050612\n",
              "reg_lambda         17.000000\n",
              "num_leaves         55.000000\n",
              "n_estimators     1150.000000\n",
              "Name: 34, dtype: float64"
            ]
          },
          "metadata": {},
          "execution_count": 16
        }
      ]
    },
    {
      "cell_type": "markdown",
      "metadata": {
        "id": "iDvvyR-Q3dBO"
      },
      "source": [
        "## Model"
      ]
    },
    {
      "cell_type": "code",
      "metadata": {
        "id": "yLRzm0tX3dBP"
      },
      "source": [
        "from lightgbm import LGBMRegressor"
      ],
      "execution_count": 17,
      "outputs": []
    },
    {
      "cell_type": "code",
      "metadata": {
        "id": "7oYsYveI3dBP"
      },
      "source": [
        "# Los valores presentados a continuación son los finales que entregan el mejor score privado en la competencia.\n",
        "# Son una modificación a mano de los parametros que entregó el optimizador. \n",
        "# Las modificaciones fueron para regularizar: subir el reg_lambda, bajar los n_estimators y subir el LR, etc.\n",
        "min_child_samples=5\n",
        "n_estimators=1150\n",
        "learning_rate=0.050612\n",
        "max_depth = 460\n",
        "num_leaves= 55\n",
        "min_child_samples= 200 #194\n",
        "reg_lambda= 20 #10 #20 #10 #0.000000\n",
        "reg_alpha= 1.000000\n",
        "colsample_bytree= 0.519264\n",
        "min_child_weight= 0.000000\n",
        "#n_estimators= 1000\n",
        "\n",
        "model = LGBMRegressor(min_child_samples=min_child_samples, n_estimators=n_estimators, learning_rate=learning_rate, max_depth=max_depth, num_leaves=num_leaves, reg_lambda=reg_lambda,\n",
        "                     reg_alpha=reg_alpha, colsample_bytree=colsample_bytree, min_child_weight=min_child_weight,n_jobs=8)"
      ],
      "execution_count": 18,
      "outputs": []
    },
    {
      "cell_type": "code",
      "metadata": {
        "id": "ddtclVm23dBQ"
      },
      "source": [
        "# Fit params\n",
        "fit_params={\"early_stopping_rounds\":100, \n",
        "            \"eval_metric\" : 'l2', \n",
        "            \"eval_set\" : [(X_val, y_val.reshape(-1))],\n",
        "            'eval_names': ['valid'],\n",
        "            'verbose': 100,\n",
        "            'feature_name': 'auto', # that's actually the default\n",
        "            'categorical_feature': cat_vars\n",
        "           }"
      ],
      "execution_count": 19,
      "outputs": []
    },
    {
      "cell_type": "code",
      "metadata": {
        "colab": {
          "base_uri": "https://localhost:8080/"
        },
        "id": "4J0UZ6iP3dBQ",
        "outputId": "3a25dd54-1fa1-47a7-89ce-5b3fb88b4baf"
      },
      "source": [
        "# Fit model\n",
        "model.fit(X_train, y_train.reshape(-1), **fit_params)"
      ],
      "execution_count": 21,
      "outputs": [
        {
          "output_type": "stream",
          "name": "stderr",
          "text": [
            "/usr/local/lib/python3.7/dist-packages/lightgbm/basic.py:1209: UserWarning: categorical_feature in Dataset is overridden.\n",
            "New categorical_feature is ['Assortment', 'CompetitionMonthsOpen', 'CompetitionOpenSinceYear', 'Day', 'DayOfWeek', 'Events', 'Month', 'Promo2SinceYear', 'Promo2Weeks', 'PromoInterval', 'Promo_bw', 'Promo_fw', 'SchoolHoliday_bw', 'SchoolHoliday_fw', 'State', 'StateHoliday', 'StateHoliday_bool_bw', 'StateHoliday_bool_fw', 'Store', 'StoreType', 'Week', 'Year']\n",
            "  'New categorical_feature is {}'.format(sorted(list(categorical_feature))))\n"
          ]
        },
        {
          "output_type": "stream",
          "name": "stdout",
          "text": [
            "Training until validation scores don't improve for 100 rounds.\n",
            "[100]\tvalid's l2: 0.000200194\tvalid's l2: 0.000200194\n",
            "[200]\tvalid's l2: 0.000148531\tvalid's l2: 0.000148531\n",
            "[300]\tvalid's l2: 0.000131198\tvalid's l2: 0.000131198\n",
            "[400]\tvalid's l2: 0.000121904\tvalid's l2: 0.000121904\n",
            "[500]\tvalid's l2: 0.000118979\tvalid's l2: 0.000118979\n",
            "[600]\tvalid's l2: 0.000115269\tvalid's l2: 0.000115269\n",
            "[700]\tvalid's l2: 0.000112147\tvalid's l2: 0.000112147\n",
            "[800]\tvalid's l2: 0.000109999\tvalid's l2: 0.000109999\n",
            "[900]\tvalid's l2: 0.000108506\tvalid's l2: 0.000108506\n",
            "[1000]\tvalid's l2: 0.000107384\tvalid's l2: 0.000107384\n",
            "[1100]\tvalid's l2: 0.000106561\tvalid's l2: 0.000106561\n",
            "Did not meet early stopping. Best iteration is:\n",
            "[1148]\tvalid's l2: 0.000106303\tvalid's l2: 0.000106303\n"
          ]
        },
        {
          "output_type": "execute_result",
          "data": {
            "text/plain": [
              "LGBMRegressor(boosting_type='gbdt', class_weight=None,\n",
              "              colsample_bytree=0.519264, importance_type='split',\n",
              "              learning_rate=0.050612, max_depth=460, min_child_samples=200,\n",
              "              min_child_weight=0.0, min_split_gain=0.0, n_estimators=1150,\n",
              "              n_jobs=8, num_leaves=55, objective=None, random_state=None,\n",
              "              reg_alpha=1.0, reg_lambda=20, silent=True, subsample=1.0,\n",
              "              subsample_for_bin=200000, subsample_freq=0)"
            ]
          },
          "metadata": {},
          "execution_count": 21
        }
      ]
    },
    {
      "cell_type": "markdown",
      "metadata": {
        "id": "KAw78odn3dBQ"
      },
      "source": [
        "# Analisis de los resultados"
      ]
    },
    {
      "cell_type": "markdown",
      "metadata": {
        "id": "m3FF0ZW43dBR"
      },
      "source": [
        "## Metrica"
      ]
    },
    {
      "cell_type": "markdown",
      "metadata": {
        "id": "22c8N7mu3dBR"
      },
      "source": [
        "$$\n",
        "\\textrm{RMSE} = \\sqrt{\\frac{1}{n} \\sum_{i=1}^{n} \\left(\\frac{\\hat{y}_i - y_i}{y_i}\\right)^2}\n",
        "$$"
      ]
    },
    {
      "cell_type": "code",
      "metadata": {
        "id": "hfs9JT843dBR"
      },
      "source": [
        "# No sacamos lo de train para acelerar la notebook.\n",
        "if log_output:\n",
        "    #y_pred_train = np.exp(model.predict(X_train, verbose=1)*max_log_y)\n",
        "    y_pred = np.exp(model.predict(X_val, verbose=1)*max_log_y)\n",
        "    y_pred_test = np.exp(model.predict(X_test, verbose=1)*max_log_y)\n",
        "else:\n",
        "    #y_pred_train = model.predict(X_train, verbose=1)*y_std + y_mean\n",
        "    y_pred = model.predict(X_val, verbose=1)*y_std + y_mean\n",
        "    y_pred_test = model.predict(X_test, verbose=1)*y_std + y_mean"
      ],
      "execution_count": 22,
      "outputs": []
    },
    {
      "cell_type": "code",
      "metadata": {
        "colab": {
          "base_uri": "https://localhost:8080/"
        },
        "id": "MZxZKmsv3dBR",
        "outputId": "95c066c6-45c5-477e-ccd2-3be05bddcc51"
      },
      "source": [
        "# Validación\n",
        "val_score = np.sqrt((((df_val['Sales'].values - y_pred)/df_val['Sales'].values)**2).sum()/len(y_pred))\n",
        "print(val_score)"
      ],
      "execution_count": 23,
      "outputs": [
        {
          "output_type": "stream",
          "name": "stdout",
          "text": [
            "0.1130517279702061\n"
          ]
        }
      ]
    },
    {
      "cell_type": "markdown",
      "metadata": {
        "id": "rV-kMtEk3dBS"
      },
      "source": [
        "# Submit a la competencia"
      ]
    },
    {
      "cell_type": "code",
      "metadata": {
        "id": "trrFgFjN3dBS"
      },
      "source": [
        "sample_csv = pd.read_csv('sample_submission.csv')\n",
        "sample_csv['Sales'] = y_pred_test\n",
        "sample_csv.head()\n",
        "\n",
        "sample_csv.to_csv(f'submision_lightgbm_{log_output}-{min_child_samples}-{n_estimators}-{learning_rate}-SCORE-{val_score}.csv', index=False)"
      ],
      "execution_count": 24,
      "outputs": []
    }
  ]
}